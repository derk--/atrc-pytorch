{
 "cells": [
  {
   "cell_type": "markdown",
   "metadata": {},
   "source": [
    "## Computational Graphs and Gradient Computations in PyTorch\n",
    "\n",
    "PyTorch has a built in library called autograd to make function differentation and gradient computation painless."
   ]
  },
  {
   "cell_type": "code",
   "execution_count": 13,
   "metadata": {},
   "outputs": [
    {
     "name": "stdout",
     "output_type": "stream",
     "text": [
      "Populating the interactive namespace from numpy and matplotlib\n"
     ]
    }
   ],
   "source": [
    "%pylab inline\n",
    "from __future__ import print_function\n",
    "import torch\n",
    "import numpy as np\n",
    "from torch.autograd import Variable"
   ]
  },
  {
   "cell_type": "markdown",
   "metadata": {},
   "source": [
    "## Computation Graphs and Variables\n",
    "\n",
    "A <i>computation graph</i> is a structure that conceptualizes how composite functions are computed. Consider the following:"
   ]
  },
  {
   "cell_type": "code",
   "execution_count": 114,
   "metadata": {},
   "outputs": [
    {
     "name": "stdout",
     "output_type": "stream",
     "text": [
      "\n",
      " 2  2\n",
      " 2  2\n",
      "[torch.FloatTensor of size 2x2]\n",
      " \n",
      " 4\n",
      "[torch.FloatTensor of size 1]\n",
      " \n",
      " 6  6\n",
      " 6  6\n",
      "[torch.FloatTensor of size 2x2]\n",
      "\n"
     ]
    }
   ],
   "source": [
    "X = torch.Tensor([[2,2],[2,2]])\n",
    "W = torch.Tensor([[0.5,0.5],[0.5,0.5]])\n",
    "a = torch.mm(X,W)\n",
    "b = torch.Tensor([4])\n",
    "Y = a + b\n",
    "print(a, b, Y)"
   ]
  },
  {
   "cell_type": "markdown",
   "metadata": {},
   "source": [
    "We can see that Y is a composite function of a, which is a composite function of X and W. We can visualize this computation graph: <img src=\"https://www.safaribooksonline.com/library/view/deep-learning-with/9781788624336/assets/4bffe8e5-599a-424e-8217-abbdee0cc8b2.png\"> (1)"
   ]
  },
  {
   "cell_type": "markdown",
   "metadata": {},
   "source": [
    "**PyTorch implements backprop** by passing gradients along a computation graph. In some deep learning frameworks (TensorFlow; Keras) one needs to define the graph explicitly. In PyTorch, the computation graph is built behind the scenes, implicitly, according to the order in which you specify operations. \n",
    "\n",
    "PyTorch does not automatically through Tensors into a computation graph, however. To tell PyTorch we want a Tensor to be part of a computation graph we wrap it in a Variable( ). Almost all tensors can be wrapped as variables. "
   ]
  },
  {
   "cell_type": "code",
   "execution_count": 110,
   "metadata": {},
   "outputs": [
    {
     "name": "stdout",
     "output_type": "stream",
     "text": [
      "Variable containing:\n",
      " 2  2\n",
      " 2  2\n",
      "[torch.FloatTensor of size 2x2]\n",
      " Variable containing:\n",
      " 4\n",
      "[torch.FloatTensor of size 1]\n",
      " Variable containing:\n",
      " 6  6\n",
      " 6  6\n",
      "[torch.FloatTensor of size 2x2]\n",
      "\n"
     ]
    }
   ],
   "source": [
    "X = Variable(torch.Tensor([[2,2],[2,2]]))\n",
    "W = Variable(torch.Tensor([[0.5,0.5],[0.5,0.5]]))\n",
    "a = torch.mm(X,W)\n",
    "b = Variable(torch.Tensor([4]))\n",
    "Y = torch.add(a,b)\n",
    "print(a, b, Y)"
   ]
  },
  {
   "cell_type": "markdown",
   "metadata": {},
   "source": [
    "Note that PyTorch automatically placed a and Y into a Variable since its arguments were also variables. \n",
    "\n",
    "Variables are very small wrappers of a tensor. They have 2 important attributes: <b>data</b> returns the Tensor wrapped in the variable; <b>grad</b> stores any gradient values computed for this variable.\n",
    "\n",
    "Note that the interface for a Variable and Tensor is essentially the same: You can do all the same ops on a Variable as you can a Tensor."
   ]
  },
  {
   "cell_type": "code",
   "execution_count": 31,
   "metadata": {},
   "outputs": [
    {
     "name": "stdout",
     "output_type": "stream",
     "text": [
      "data wrapped in Y:  \n",
      " 4  4\n",
      " 5  5\n",
      "[torch.FloatTensor of size 2x2]\n",
      "\n",
      "gradient stored in Y:  None\n",
      "maximum along row entries: (Variable containing:\n",
      " 10\n",
      " 10\n",
      "[torch.FloatTensor of size 2]\n",
      ", Variable containing:\n",
      " 1\n",
      " 1\n",
      "[torch.LongTensor of size 2]\n",
      ")\n"
     ]
    }
   ],
   "source": [
    "print('data wrapped in Y: ', Y.data)\n",
    "print('gradient stored in Y: ',Y.grad)\n",
    "\n",
    "X = Y + 5\n",
    "Z = torch.max(X,0) ##Note that Z is still a variable. \n",
    "print('maximum along row entries:', Z)"
   ]
  },
  {
   "cell_type": "markdown",
   "metadata": {},
   "source": [
    "## Running Gradients\n",
    "\n",
    "It is super easy to compute the gradient of some variable. Remember that the gradient is the composition of all partial derivitives of the function w.r.t. all of its variable parameters. We call .backward() on the Variable V we want to compute the gradient for, and the gradient of each parameter p with respect to V is stored in p.grad. \n",
    "\n",
    "$Y$ is a matrix. Write the components of $Y$ as $$Y_{ij} = f_{ij}(X,W) + g_{ij}(b)$$\n",
    "where \\begin{align} f_{11} &= [XW]_{11} = x_{11}w_{11} + x_{12}w_{12}\\\\\n",
    "f_{12} &= [XW]_{12} = x_{11}w_{12} + x_{12}w_{22}\\\\ \n",
    "f_{21} &= [XW]_{21} = x_{21}w_{11} + x_{22}w_{21}\\\\ \n",
    "f_{22} &= [XW]_{22} = x_{21}w_{12} + x_{22}w_{22}\\end{align}\n",
    "\n",
    "backward() requires as input an initial gradient signal to pass through (e.g. an initial gradient value). In the case of the computation graph above, if we call Y.backward(torch.Tensor([[1,1],[1,1]])), that means we will compute the gradient of Y with respect to variables b, X, and W, where $\\frac{\\partial Y}{\\partial f_{ij}} = 1$ and $\\frac{\\partial Y}{\\partial g_{ij}} = 1$ for all $i,j$. We need to specify this initial \"gradient signal\" so that all the upstream partials can be computed. Remember that in the backprop algorithm, we pass the **same** gradient signal to all upstream functions.\n",
    "\n",
    "When backward() is not given a parameter but the variable is a scalar, the default value for the initial gradient is 1.\n",
    "\n",
    "Lets do some quick calculus. Recall the chain rule:\n",
    "$$\\frac{\\partial f}{\\partial w_i} = \\sum_{d=1}^D \\frac{\\partial f}{\\partial g_d}\\frac{\\partial g_d}{\\partial w_i}$$\n",
    "where $f$ is a function of $g_d$ and $g_d$ is a function of $w_i$.\n",
    "\n",
    "If the initial gradient signal is $\\frac{\\partial Y}{\\partial f_{ij}} = \\frac{\\partial Y}{\\partial g_{ij}} = 1$, what will the gradients be at the variables $X, W$, and $b$? Let's do $b$ first:\n",
    "\n",
    "$$\\frac{\\partial Y}{\\partial b} = \\sum_{i=1}^2\\sum_{j=1}^2 \\frac{\\partial Y}{\\partial g_{ij}}\\frac{\\partial g_{ij}}{\\partial b}$$\n",
    "\n",
    "since $Y$ is a function of all $g_{ij}$. We have $g_{ij}(b)= b$, so $\\frac{\\partial g_{ij}}{\\partial b} = 1$, so \n",
    "$\\frac{\\partial Y}{\\partial b} = 4$.\n",
    "\n",
    "Now lets do the gradient for $X$. Think of $X$ as really 4 parameters $x_{11}, x_{12}, x_{21}, x_{22}$ whose gradients\n",
    "we need. We see $Y$ is a function of all $f_{ij}$, and so by the chain rule: \n",
    "\n",
    "$$\\frac{\\partial Y}{\\partial x_{11}} = \\sum_{d=1}^2 \\frac{\\partial Y}{\\partial f_{1d}}\\frac{\\partial f_{1d}}{\\partial x_{11}} \\;\\;\\;\\;\\; \\frac{\\partial Y}{\\partial x_{12}} = \\sum_{d=1}^2 \\frac{\\partial Y}{\\partial f_{1d}}\\frac{\\partial f_{1d}}{\\partial x_{12}} \\;\\;\\;\\;\\; \\frac{\\partial Y}{\\partial x_{21}} = \\sum_{d=1}^2 \\frac{\\partial Y}{\\partial f_{2d}}\\frac{\\partial f_{2d}}{\\partial x_{21}} \\;\\;\\;\\;\\; \\frac{\\partial Y}{\\partial x_{22}} = \\sum_{d=1}^2 \\frac{\\partial Y}{\\partial f_{2d}}\\frac{\\partial f_{2d}}{\\partial x_{22}}$$\n",
    "\n",
    "since $Y$ are the functions of $f_{11}$ and $f_{21}$ that are the functions of $x_{11}$, and so forth. The gradient of $Y$ is set to 1 everywhere, and the partials of each $f_{ij}$ are straightforward:\n",
    "\n",
    "\\begin{align} \\frac{\\partial f_{11}}{\\partial x_{11}} = w_{11} \\;\\;\\;\\;\\; \n",
    "              \\frac{\\partial f_{11}}{\\partial x_{12}} = w_{21} \\\\ \n",
    "              \\frac{\\partial f_{12}}{\\partial x_{11}} = w_{12} \\;\\;\\;\\;\\;\n",
    "              \\frac{\\partial f_{12}}{\\partial x_{12}} = w_{22} \\\\\n",
    "              \\frac{\\partial f_{21}}{\\partial x_{21}} = w_{11} \\;\\;\\;\\;\\;\n",
    "              \\frac{\\partial f_{21}}{\\partial x_{22}} = w_{21} \\\\\n",
    "              \\frac{\\partial f_{22}}{\\partial x_{21}} = w_{12} \\;\\;\\;\\;\\;\n",
    "              \\frac{\\partial f_{22}}{\\partial x_{22}} = w_{22} \\\\\n",
    "              \\end{align}\n",
    "\n",
    "All $w_{ij} = 0.5$, so the gradients for every $x_{ij}$ should be equal to 1. Now taking the partial of Y with respect to each $w_{ij}$ instead, you will follow a very similar procedure and find that they are equal to 4 for every $w_{ij}$.\n",
    "\n",
    "**Exercise**: Make sure you have your partial derivatives and the chain rule down pat. Compute the partial of \n",
    "$Y$ with respect to every $w_{ij}$ and verify that they are all equal to 4 when the initial gradient signal is 1.\n",
    "\n",
    "That was kind of tedious. **It's not in PyTorch!**"
   ]
  },
  {
   "cell_type": "code",
   "execution_count": 112,
   "metadata": {},
   "outputs": [
    {
     "name": "stdout",
     "output_type": "stream",
     "text": [
      "Variable containing:\n",
      " 4  4\n",
      " 4  4\n",
      "[torch.FloatTensor of size 2x2]\n",
      "\n",
      "Variable containing:\n",
      " 1  1\n",
      " 1  1\n",
      "[torch.FloatTensor of size 2x2]\n",
      "\n",
      "Variable containing:\n",
      " 4\n",
      "[torch.FloatTensor of size 1]\n",
      "\n"
     ]
    }
   ],
   "source": [
    "X = Variable(torch.Tensor([[2,2],[2,2]]), requires_grad=True)\n",
    "W = Variable(torch.Tensor([[0.5,0.5],[0.5,0.5]]), requires_grad=True)\n",
    "a = torch.mm(X,W)\n",
    "b = Variable(torch.Tensor([4]),requires_grad=True)\n",
    "Y = torch.add(a,b)\n",
    "\n",
    "## Starting from the gradient signal provided as input, backprop across the computation graph\n",
    "## to compute the partials of every variable that Y depends on.\n",
    "Y.backward(torch.Tensor([[1,1],[1,1]]))\n",
    "\n",
    "## Check the gradients: \n",
    "print(W.grad)\n",
    "print(X.grad)\n",
    "print(b.grad)"
   ]
  },
  {
   "cell_type": "markdown",
   "metadata": {},
   "source": [
    "Good! Note that we have set the requires_grad parameter of a Variable to True as we require the variable to have a gradient computed on it. When we get build deep nets we will do so layer wise, and the Variables of the layers will have requires_grad to be True automatically. But by default we have requires_grad to False, since for example the input tensor to a deep network does not need to have a gradient computed. \n",
    "\n",
    "Another note: when we build deep nets, we usually do not need to specify a parameter for backward. The gradient that comes into the output layer of the network will be computed with respect to a specified loss function. "
   ]
  },
  {
   "cell_type": "markdown",
   "metadata": {},
   "source": [
    "(1) https://www.safaribooksonline.com/library/view/deep-learning-with/9781788624336/04621ce7-b316-427e-b03c-eb65fd40d049.xhtml "
   ]
  },
  {
   "cell_type": "markdown",
   "metadata": {},
   "source": [
    "Author: Derek Doran, Dept. of CSE, Wright State University, for ATRC Summer 2018 \n",
    "\n",
    "Homepage: https://derk--.github.io/"
   ]
  }
 ],
 "metadata": {
  "kernelspec": {
   "display_name": "Python 2",
   "language": "python",
   "name": "python2"
  },
  "language_info": {
   "codemirror_mode": {
    "name": "ipython",
    "version": 2
   },
   "file_extension": ".py",
   "mimetype": "text/x-python",
   "name": "python",
   "nbconvert_exporter": "python",
   "pygments_lexer": "ipython2",
   "version": "2.7.12"
  }
 },
 "nbformat": 4,
 "nbformat_minor": 2
}
